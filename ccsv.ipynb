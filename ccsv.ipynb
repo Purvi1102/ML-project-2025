{
 "cells": [
  {
   "cell_type": "code",
   "execution_count": 14,
   "id": "09baab48",
   "metadata": {},
   "outputs": [],
   "source": [
    "import os\n",
    "import pandas as pd\n",
    "import matplotlib.pyplot as plt\n",
    "from PIL import Image\n",
    "import numpy as np\n"
   ]
  },
  {
   "cell_type": "code",
   "execution_count": 15,
   "id": "eb2b5e16",
   "metadata": {},
   "outputs": [
    {
     "data": {
      "text/html": [
       "<div>\n",
       "<style scoped>\n",
       "    .dataframe tbody tr th:only-of-type {\n",
       "        vertical-align: middle;\n",
       "    }\n",
       "\n",
       "    .dataframe tbody tr th {\n",
       "        vertical-align: top;\n",
       "    }\n",
       "\n",
       "    .dataframe thead th {\n",
       "        text-align: right;\n",
       "    }\n",
       "</style>\n",
       "<table border=\"1\" class=\"dataframe\">\n",
       "  <thead>\n",
       "    <tr style=\"text-align: right;\">\n",
       "      <th></th>\n",
       "      <th>filepath</th>\n",
       "      <th>label</th>\n",
       "    </tr>\n",
       "  </thead>\n",
       "  <tbody>\n",
       "    <tr>\n",
       "      <th>0</th>\n",
       "      <td>images\\BEANS\\BEANS0000.png</td>\n",
       "      <td>BEANS</td>\n",
       "    </tr>\n",
       "    <tr>\n",
       "      <th>1</th>\n",
       "      <td>images\\BEANS\\BEANS0001.png</td>\n",
       "      <td>BEANS</td>\n",
       "    </tr>\n",
       "    <tr>\n",
       "      <th>2</th>\n",
       "      <td>images\\BEANS\\BEANS0002.png</td>\n",
       "      <td>BEANS</td>\n",
       "    </tr>\n",
       "    <tr>\n",
       "      <th>3</th>\n",
       "      <td>images\\BEANS\\BEANS0003.png</td>\n",
       "      <td>BEANS</td>\n",
       "    </tr>\n",
       "    <tr>\n",
       "      <th>4</th>\n",
       "      <td>images\\BEANS\\BEANS0004.png</td>\n",
       "      <td>BEANS</td>\n",
       "    </tr>\n",
       "  </tbody>\n",
       "</table>\n",
       "</div>"
      ],
      "text/plain": [
       "                     filepath  label\n",
       "0  images\\BEANS\\BEANS0000.png  BEANS\n",
       "1  images\\BEANS\\BEANS0001.png  BEANS\n",
       "2  images\\BEANS\\BEANS0002.png  BEANS\n",
       "3  images\\BEANS\\BEANS0003.png  BEANS\n",
       "4  images\\BEANS\\BEANS0004.png  BEANS"
      ]
     },
     "execution_count": 15,
     "metadata": {},
     "output_type": "execute_result"
    }
   ],
   "source": [
    "image_dir = \"images\"\n",
    "data = []\n",
    "\n",
    "# Traverse folders and collect image paths with labels\n",
    "for label in os.listdir(image_dir):\n",
    "    label_folder = os.path.join(image_dir, label)\n",
    "    if os.path.isdir(label_folder):\n",
    "        for file in os.listdir(label_folder):\n",
    "            if file.endswith((\".jpg\", \".png\", \".jpeg\")):\n",
    "                data.append({\n",
    "                    \"filepath\": os.path.join(label_folder, file),\n",
    "                    \"label\": label\n",
    "                })\n",
    "\n",
    "df = pd.DataFrame(data)\n",
    "df.head()\n"
   ]
  },
  {
   "cell_type": "code",
   "execution_count": null,
   "id": "769b88c7",
   "metadata": {},
   "outputs": [],
   "source": [
    "df.to_csv(\"image_labels.csv\", index=False)\n",
    "## DATASET PREPARATION\n"
   ]
  }
 ],
 "metadata": {
  "kernelspec": {
   "display_name": "base",
   "language": "python",
   "name": "python3"
  },
  "language_info": {
   "codemirror_mode": {
    "name": "ipython",
    "version": 3
   },
   "file_extension": ".py",
   "mimetype": "text/x-python",
   "name": "python",
   "nbconvert_exporter": "python",
   "pygments_lexer": "ipython3",
   "version": "3.12.4"
  }
 },
 "nbformat": 4,
 "nbformat_minor": 5
}
