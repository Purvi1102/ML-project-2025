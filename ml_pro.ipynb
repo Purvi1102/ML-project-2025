{
 "cells": [
  {
   "cell_type": "code",
   "execution_count": 8,
   "id": "93d3deb4",
   "metadata": {},
   "outputs": [
    {
     "name": "stdout",
     "output_type": "stream",
     "text": [
      "[✔] CSV created with 4657 entries at: synthetic_expiry_labels.csv\n"
     ]
    }
   ],
   "source": [
    "import os\n",
    "import csv\n",
    "import random\n",
    "from datetime import datetime, timedelta\n",
    "\n",
    "# 📂 Folder where images are stored (adjust if needed)\n",
    "image_root = \"images\"\n",
    "\n",
    "# ✅ Write the CSV in the current directory (ML_project/)\n",
    "output_csv = \"synthetic_expiry_labels.csv\"\n",
    "\n",
    "# 🏷️ Generate expiry date and class\n",
    "def generate_expiry_info():\n",
    "    today = datetime.today()\n",
    "    days_to_expiry = random.randint(-15, 60)\n",
    "    expiry_date = today + timedelta(days=days_to_expiry)\n",
    "\n",
    "    if days_to_expiry < 0:\n",
    "        label = \"expired\"\n",
    "    elif days_to_expiry <= 15:\n",
    "        label = \"expiring_soon\"\n",
    "    else:\n",
    "        label = \"fresh\"\n",
    "\n",
    "    return expiry_date.strftime(\"%Y-%m-%d\"), label\n",
    "\n",
    "# 🖼️ Loop over images and create labels\n",
    "rows = []\n",
    "for category in os.listdir(image_root):\n",
    "    category_path = os.path.join(image_root, category)\n",
    "    if os.path.isdir(category_path):\n",
    "        for filename in os.listdir(category_path):\n",
    "            if filename.lower().endswith((\".jpg\", \".png\", \".jpeg\")):\n",
    "                rel_path = os.path.join(category, filename)  # Relative path\n",
    "                expiry_date, label = generate_expiry_info()\n",
    "                rows.append([rel_path, expiry_date, label])\n",
    "\n",
    "# 💾 Write to CSV\n",
    "with open(output_csv, mode=\"w\", newline=\"\") as file:\n",
    "    writer = csv.writer(file)\n",
    "    writer.writerow([\"filename\", \"expiry_date\", \"freshness_class\"])\n",
    "    writer.writerows(rows)\n",
    "\n",
    "print(f\"[✔] CSV created with {len(rows)} entries at: {output_csv}\")\n"
   ]
  },
  {
   "cell_type": "code",
   "execution_count": 9,
   "id": "5ff1701c",
   "metadata": {},
   "outputs": [],
   "source": [
    "import os\n",
    "import pandas as pd\n",
    "from PIL import Image\n",
    "import torch\n",
    "from torch.utils.data import Dataset, DataLoader\n",
    "from torchvision import transforms, models\n",
    "import torch.nn as nn\n",
    "import torch.optim as optim\n",
    "from sklearn.model_selection import train_test_split\n"
   ]
  },
  {
   "cell_type": "code",
   "execution_count": 10,
   "id": "710127af",
   "metadata": {},
   "outputs": [],
   "source": [
    "df = pd.read_csv(\"synthetic_expiry_labels.csv\")\n",
    "label_map = {\"expired\": 0, \"expiring_soon\": 1, \"fresh\": 2}\n",
    "df[\"label\"] = df[\"freshness_class\"].map(label_map)\n"
   ]
  },
  {
   "cell_type": "code",
   "execution_count": 11,
   "id": "48d96e70",
   "metadata": {},
   "outputs": [],
   "source": [
    "train_df, test_df = train_test_split(df, test_size=0.2, random_state=42, stratify=df[\"label\"])\n"
   ]
  },
  {
   "cell_type": "code",
   "execution_count": 12,
   "id": "14eaa565",
   "metadata": {},
   "outputs": [],
   "source": [
    "class GroceryImageDataset(Dataset):\n",
    "    def __init__(self, dataframe, img_dir, transform=None):\n",
    "        self.df = dataframe.reset_index(drop=True)\n",
    "        self.img_dir = img_dir\n",
    "        self.transform = transform\n",
    "\n",
    "    def __len__(self):\n",
    "        return len(self.df)\n",
    "\n",
    "    def __getitem__(self, idx):\n",
    "        img_path = os.path.join(self.img_dir, self.df.loc[idx, \"filename\"])\n",
    "        image = Image.open(img_path).convert(\"RGB\")\n",
    "        label = self.df.loc[idx, \"label\"]\n",
    "\n",
    "        if self.transform:\n",
    "            image = self.transform(image)\n",
    "\n",
    "        return image, label\n"
   ]
  },
  {
   "cell_type": "code",
   "execution_count": 13,
   "id": "66728fda",
   "metadata": {},
   "outputs": [],
   "source": [
    "transform = transforms.Compose([\n",
    "    transforms.Resize((224, 224)),\n",
    "    transforms.ToTensor(),\n",
    "    transforms.Normalize(mean=[0.5]*3, std=[0.5]*3)\n",
    "])\n",
    "\n",
    "train_dataset = GroceryImageDataset(train_df, \"images\", transform)\n",
    "test_dataset = GroceryImageDataset(test_df, \"images\", transform)\n",
    "\n",
    "train_loader = DataLoader(train_dataset, batch_size=32, shuffle=True)\n",
    "test_loader = DataLoader(test_dataset, batch_size=32)\n"
   ]
  },
  {
   "cell_type": "code",
   "execution_count": null,
   "id": "86733c4b",
   "metadata": {},
   "outputs": [],
   "source": []
  }
 ],
 "metadata": {
  "kernelspec": {
   "display_name": "base",
   "language": "python",
   "name": "python3"
  },
  "language_info": {
   "codemirror_mode": {
    "name": "ipython",
    "version": 3
   },
   "file_extension": ".py",
   "mimetype": "text/x-python",
   "name": "python",
   "nbconvert_exporter": "python",
   "pygments_lexer": "ipython3",
   "version": "3.12.4"
  }
 },
 "nbformat": 4,
 "nbformat_minor": 5
}
